{
 "cells": [
  {
   "cell_type": "markdown",
   "id": "109910a9",
   "metadata": {},
   "source": [
    "Sentence Tokenizer"
   ]
  },
  {
   "cell_type": "code",
   "execution_count": null,
   "id": "ad61b284",
   "metadata": {},
   "outputs": [],
   "source": [
    "def sent_token(text):\n",
    "    doc = nlp(text)\n",
    "    results= [sent.text for sent in doc.sents]\n",
    "    return results\n",
    "\n",
    "loc_filter[\"sentences\"] = loc_filter['text'].astype(str).apply(sent_token)"
   ]
  },
  {
   "cell_type": "code",
   "execution_count": null,
   "id": "6560144b",
   "metadata": {},
   "outputs": [],
   "source": [
    "#applying the classifier trained earlier on the sentence column\n",
    "\n",
    "predict_x = count_vector.transform(wikidump['sentence'])\n",
    "\n",
    "predictions = model.predict(predict_x)"
   ]
  },
  {
   "cell_type": "markdown",
   "id": "69d2417a",
   "metadata": {},
   "source": [
    "word Tokenization, POS tagging, Stopwords removal"
   ]
  },
  {
   "cell_type": "code",
   "execution_count": null,
   "id": "685110a0",
   "metadata": {},
   "outputs": [],
   "source": [
    "from nltk.tokenize import word_tokenize\n",
    "from nltk import pos_tag\n",
    "nltk.download('stopwords')\n",
    "from nltk.corpus import stopwords\n",
    "nltk.download('wordnet')\n",
    "from nltk.corpus import wordnet"
   ]
  },
  {
   "cell_type": "markdown",
   "id": "d8bf7a6c",
   "metadata": {},
   "source": [
    "reference: https://towardsdatascience.com/text-preprocessing-in-natural-language-processing-using-python-6113ff5decd8#:~:text=In%20NLP%2C%20text%20preprocessing%20is,Stop%20words%20removal"
   ]
  },
  {
   "cell_type": "code",
   "execution_count": null,
   "id": "c12f4159",
   "metadata": {},
   "outputs": [],
   "source": [
    "# POS tagger dictionary\n",
    "pos_dict = {'J':wordnet.ADJ, 'V':wordnet.VERB, 'N':wordnet.NOUN, 'R':wordnet.ADV}\n",
    "\n",
    "def token_stop_pos(text):\n",
    "    tags = pos_tag(word_tokenize(text))\n",
    "    newlist = []\n",
    "    for word, tag in tags:\n",
    "        if word.lower() not in set(stopwords.words('english')):\n",
    "            newlist.append(tuple([word, pos_dict.get(tag[0])]))\n",
    "    return newlist"
   ]
  },
  {
   "cell_type": "code",
   "execution_count": null,
   "id": "8d2c8cac",
   "metadata": {},
   "outputs": [],
   "source": [
    "# to avoid repition, I'm only showing code for one of the indicators data\n",
    "\n",
    "\n",
    "#applying the pos, tokenizer and stopword remover and adding it to a new column 'POS tagged'\n",
    "\n",
    "wiki_health_sentiment['POS tagged'] = wiki_health_sentiment['sentences'].apply(token_stop_pos)`"
   ]
  },
  {
   "cell_type": "code",
   "execution_count": null,
   "id": "6353c7f0",
   "metadata": {},
   "outputs": [],
   "source": [
    "#Obtaining the stem words – Lemmatization\n",
    "\n",
    "from nltk.stem import WordNetLemmatizer\n",
    "wordnet_lemmatizer = WordNetLemmatizer()\n",
    "\n",
    "def lemmatize(pos_data):\n",
    "    lemma_rew = \" \"\n",
    "    for word, pos in pos_data:\n",
    "        if not pos:\n",
    "            lemma = word\n",
    "            lemma_rew = lemma_rew + \" \" + lemma\n",
    "        else:\n",
    "            lemma = wordnet_lemmatizer.lemmatize(word, pos=pos)\n",
    "            lemma_rew = lemma_rew + \" \" + lemma\n",
    "    return lemma_rew"
   ]
  },
  {
   "cell_type": "code",
   "execution_count": null,
   "id": "076ee754",
   "metadata": {},
   "outputs": [],
   "source": [
    "#applying the Lemmatization and adding it to a new column 'lemma'\n",
    "wiki_health_sentiment['Lemma'] = wiki_health_sentiment['POS tagged'].apply(lemmatize)"
   ]
  }
 ],
 "metadata": {
  "kernelspec": {
   "display_name": "Python 3 (ipykernel)",
   "language": "python",
   "name": "python3"
  },
  "language_info": {
   "codemirror_mode": {
    "name": "ipython",
    "version": 3
   },
   "file_extension": ".py",
   "mimetype": "text/x-python",
   "name": "python",
   "nbconvert_exporter": "python",
   "pygments_lexer": "ipython3",
   "version": "3.10.1"
  }
 },
 "nbformat": 4,
 "nbformat_minor": 5
}
