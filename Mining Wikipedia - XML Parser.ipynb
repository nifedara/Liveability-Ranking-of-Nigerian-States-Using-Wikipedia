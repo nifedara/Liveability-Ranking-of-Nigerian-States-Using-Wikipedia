{
 "cells": [
  {
   "cell_type": "markdown",
   "id": "a1c29527",
   "metadata": {},
   "source": [
    "Reference: https://github.com/daveshap/PlainTextWikipedia"
   ]
  },
  {
   "cell_type": "markdown",
   "id": "2d47ea19",
   "metadata": {},
   "source": [
    "I tweaked the above parser to extract only articles that mention 'Nigeria' instead of all the articles in the XML file and to save each article it extracts to a CSV file."
   ]
  },
  {
   "cell_type": "code",
   "execution_count": null,
   "id": "05eb4e89",
   "metadata": {},
   "outputs": [],
   "source": [
    "import os\n",
    "from threading import Thread\n",
    "import csv\n",
    "import re\n",
    "from html2text import html2text as htt\n",
    "import wikitextparser as wtp\n",
    "\n",
    "\n",
    "def dewiki(text):\n",
    "    text = wtp.parse(text).plain_text()  # wiki to plaintext \n",
    "    text = htt(text)  # remove any HTML\n",
    "    text = text.replace('\\\\n',' ')  # replace newlines\n",
    "    text = re.sub('\\s+', ' ', text)  # replace excess whitespace\n",
    "    return text\n",
    "\n",
    "\n",
    "def analyze_chunk(text):\n",
    "    try:\n",
    "        if '<redirect title=\"' in text:  # this is not the main article\n",
    "            return None\n",
    "        if '(disambiguation)' in text:  # this is not an article\n",
    "            return None\n",
    "        else:\n",
    "            checkFor = ['Nigeria', 'nigeria']\n",
    "            if any(x in text for x in checkFor):\n",
    "                title = text.split('<title>')[1].split('</title>')[0]\n",
    "                title = htt(title)\n",
    "            else:\n",
    "                return None\n",
    "            # if ':' in title:  # most articles with : in them are not articles we care about\n",
    "            #     return None\n",
    "        serial = text.split('<id>')[1].split('</id>')[0]\n",
    "        content = text.split('</text')[0].split('<text')[1].split('>', maxsplit=1)[1]\n",
    "        content = dewiki(content)\n",
    "        return {'title': title.strip(), 'text': content.strip(), 'id': serial.strip()}\n",
    "        \n",
    "    except Exception as oops:\n",
    "        print(oops)\n",
    "        return None\n",
    "\n",
    "\n",
    "def save_article(article, savedir):\n",
    "    doc = analyze_chunk(article)\n",
    "    if doc:\n",
    "        #print('SAVING:', doc['title'])\n",
    "        print('SAVING:', doc['title'])\n",
    "        filename = doc['title'] \n",
    "        headers = [\"id\", \"title\", \"text\"]\n",
    "        rows = [doc['id'], doc['title'], doc['text']]\n",
    "        completeName = os.path.join(savedir, filename + \".csv\")\n",
    "        with open(completeName, 'w', encoding='utf-8') as outfile:\n",
    "            csvwriter = csv.writer(outfile)\n",
    "            csvwriter.writerow(headers)\n",
    "            csvwriter.writerow(rows)\n",
    "            \n",
    "            #json.dump(doc, outfile, sort_keys=True, indent=1, ensure_ascii=False)  #discarded\n",
    "\n",
    "def process_file_text(filename, savedir):\n",
    "    article = ''\n",
    "    with open(filename, 'r', encoding='utf-8') as infile:\n",
    "        for line in infile:\n",
    "            if '<page>' in line:\n",
    "                article = ''\n",
    "            elif '</page>' in line:  # end of article\n",
    "                Thread(target=save_article, args=(article, savedir)).start()\n",
    "            else:\n",
    "                article += line"
   ]
  },
  {
   "cell_type": "code",
   "execution_count": null,
   "id": "04c72d63",
   "metadata": {},
   "outputs": [],
   "source": [
    "from dewiki_functions import *\n",
    "\n",
    "wiki_xml_file = r\"/home/admin1/wikidump/enwiki-20211120-pages-articles-multistream.xml\" #my file location\n",
    "csv_save_dir = r\"/home/admin1/NigerianArticles\"\n",
    "\n",
    "if __name__ == '__main__':\n",
    "    process_file_text(wiki_xml_file, csv_save_dir)"
   ]
  }
 ],
 "metadata": {
  "kernelspec": {
   "display_name": "Python 3 (ipykernel)",
   "language": "python",
   "name": "python3"
  },
  "language_info": {
   "codemirror_mode": {
    "name": "ipython",
    "version": 3
   },
   "file_extension": ".py",
   "mimetype": "text/x-python",
   "name": "python",
   "nbconvert_exporter": "python",
   "pygments_lexer": "ipython3",
   "version": "3.10.1"
  }
 },
 "nbformat": 4,
 "nbformat_minor": 5
}
