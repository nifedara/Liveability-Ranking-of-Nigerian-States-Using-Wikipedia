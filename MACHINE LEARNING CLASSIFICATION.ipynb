{
 "cells": [
  {
   "cell_type": "code",
   "execution_count": null,
   "id": "6659e13d",
   "metadata": {},
   "outputs": [],
   "source": [
    "import pandas as pd\n",
    "import matplotlib.pyplot as plt\n",
    "from wordcloud import WordCloud\n",
    "import numpy as np\n",
    "from sklearn.model_selection import train_test_split\n",
    "from sklearn.feature_extraction.text import CountVectorizer\n",
    "from sklearn.ensemble import RandomForestClassifier"
   ]
  },
  {
   "cell_type": "code",
   "execution_count": null,
   "id": "bbe02c22",
   "metadata": {},
   "outputs": [],
   "source": [
    "#the dataset to train the classifier\n",
    "\n",
    "Health_Education = pd.read_csv(r'Documents\\Health_Education.csv', index_col = 0)\n",
    "Health_Education = Health_Education.reindex(np.random.permutation(Health_Education.index))\n",
    "\n",
    "#it has 571 rows × 2 columns(keyword, label)"
   ]
  },
  {
   "cell_type": "markdown",
   "id": "bc0a3ae9",
   "metadata": {},
   "source": [
    "I had 3 dataset to train and 3 classifiers for the different liveability indicators\n",
    "I only include the code for one(Health_Education) here to avoid repition. "
   ]
  },
  {
   "cell_type": "code",
   "execution_count": null,
   "id": "16ed00d5",
   "metadata": {},
   "outputs": [],
   "source": [
    "#generate world cloud (visualization)\n",
    "\n",
    "cloud=WordCloud(width=800, height=600).generate(\" \".join(Health_Education['keyword'])) \n",
    "plt.figure(figsize=(16,10))\n",
    "plt.imshow(cloud)\n",
    "plt.axis('off')"
   ]
  },
  {
   "cell_type": "code",
   "execution_count": null,
   "id": "0f4321ed",
   "metadata": {},
   "outputs": [],
   "source": [
    "#splits the data into train and test, 80% and 20% respectively\n",
    "train_x_keyword, test_x_keyword, train_y, test_y = train_test_split(Health_Education['keyword'], \n",
    "                                                    Health_Education['label'], \n",
    "                                                    test_size = 20, random_state=42)\n",
    "\n",
    "#generates frequency matrix to feed into the ml algorithm\n",
    "count_vector = CountVectorizer(ngram_range=(1, 1), lowercase = True , stop_words =  'english')\n",
    "\n",
    "train_x = count_vector.fit_transform(train_x_keyword) \n",
    "test_x= count_vector.transform(test_x_keyword)"
   ]
  },
  {
   "cell_type": "code",
   "execution_count": null,
   "id": "8ae8cdbc",
   "metadata": {},
   "outputs": [],
   "source": [
    "# training the RandomForestClassifier\n",
    "\n",
    "model = RandomForestClassifier()\n",
    "model.fit(train_x, train_y)\n",
    "\n",
    "model.score(test_x, test_y)"
   ]
  }
 ],
 "metadata": {
  "kernelspec": {
   "display_name": "Python 3 (ipykernel)",
   "language": "python",
   "name": "python3"
  },
  "language_info": {
   "codemirror_mode": {
    "name": "ipython",
    "version": 3
   },
   "file_extension": ".py",
   "mimetype": "text/x-python",
   "name": "python",
   "nbconvert_exporter": "python",
   "pygments_lexer": "ipython3",
   "version": "3.10.1"
  }
 },
 "nbformat": 4,
 "nbformat_minor": 5
}
