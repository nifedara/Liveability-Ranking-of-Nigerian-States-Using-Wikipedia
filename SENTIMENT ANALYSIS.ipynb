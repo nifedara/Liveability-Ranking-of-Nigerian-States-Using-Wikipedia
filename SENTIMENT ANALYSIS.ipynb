{
 "cells": [
  {
   "cell_type": "markdown",
   "id": "cee6e145",
   "metadata": {},
   "source": [
    "sentiment analysis with textblob"
   ]
  },
  {
   "cell_type": "code",
   "execution_count": null,
   "id": "290b3c69",
   "metadata": {},
   "outputs": [],
   "source": [
    "from textblob import TextBlob"
   ]
  },
  {
   "cell_type": "code",
   "execution_count": null,
   "id": "4e62a7df",
   "metadata": {},
   "outputs": [],
   "source": [
    "#NB: to avoid repition, I'm only showing code for one of the indicators data"
   ]
  },
  {
   "cell_type": "code",
   "execution_count": null,
   "id": "961460b1",
   "metadata": {},
   "outputs": [],
   "source": [
    "#the only columns I need now. ID, text, and title are no longer necessary\n",
    "\n",
    "health_for_sentiment = wiki_health_sentiment[['location', 'sentences', 'Lemma']]"
   ]
  },
  {
   "cell_type": "markdown",
   "id": "4d67fcc7",
   "metadata": {},
   "source": [
    "reference: https://towardsdatascience.com/text-preprocessing-in-natural-language-processing-using-python-6113ff5decd8#:~:text=In%20NLP%2C%20text%20preprocessing%20is,Stop%20words%20removal"
   ]
  },
  {
   "cell_type": "code",
   "execution_count": null,
   "id": "e1acc40a",
   "metadata": {},
   "outputs": [],
   "source": [
    "# function to calculate subjectivity\n",
    "def getSubjectivity(review):\n",
    "    return TextBlob(review).sentiment.subjectivity\n",
    "\n",
    "# function to calculate polarity\n",
    "def getPolarity(review):\n",
    "    return TextBlob(review).sentiment.polarity\n",
    "\n",
    "# function to analyze the reviews\n",
    "def analysis(score):\n",
    "    if score < 0:\n",
    "        return 'Negative'\n",
    "    elif score == 0:\n",
    "        return 'Neutral'\n",
    "    else:\n",
    "        return 'Positive'"
   ]
  },
  {
   "cell_type": "code",
   "execution_count": null,
   "id": "1c61fe70",
   "metadata": {},
   "outputs": [],
   "source": [
    "#applying the sentiment analyzer and adding it to a new column 'Analysis'\n",
    "\n",
    "health_for_sentiment['Polarity'] = health_for_sentiment['Lemma'].apply(getPolarity)\n",
    "health_for_sentiment['Analysis'] = health_for_sentiment['Polarity'].apply(analysis)"
   ]
  },
  {
   "cell_type": "code",
   "execution_count": null,
   "id": "b765fbfb",
   "metadata": {},
   "outputs": [],
   "source": [
    "#all other columns are no longer necessary\n",
    "\n",
    "health_data = health_for_sentiment[['location', 'Analysis']]"
   ]
  },
  {
   "cell_type": "code",
   "execution_count": null,
   "id": "0a2554c0",
   "metadata": {},
   "outputs": [],
   "source": [
    "places_of_interest = ['lagos state', 'lagos', 'cross river state', 'cross river', 'anambra', 'akwa ibom state', 'akwa ibom',\n",
    "                      'delta', 'oyo state', 'oyo', 'delta state', 'kaduna state', 'imo state', 'imo', \n",
    "                      'enugu state', 'enugu', 'ondo', 'ondo state', 'anambra state', 'kano state', 'kano']\n",
    "\n",
    "#keep rows that contain any value in the list\n",
    "health = health_data[health_data.location.isin(places_of_interest) == True].reset_index(drop=True)"
   ]
  },
  {
   "cell_type": "code",
   "execution_count": null,
   "id": "dd5f70d3",
   "metadata": {},
   "outputs": [],
   "source": [
    "#I did this to ensure that all the state data match. i.e Oyo state is also Oyo\n",
    "#(NB: not efficient but solves the problem)\n",
    "\n",
    "health['location'] = health['location'].replace('oyo state','oyo')\n",
    "health['location'] = health['location'].replace('lagos state','lagos')\n",
    "health['location'] = health['location'].replace('cross river state','cross river')\n",
    "health['location'] = health['location'].replace('akwa ibom state','akwa ibom')\n",
    "health['location'] = health['location'].replace('delta state','delta')\n",
    "health['location'] = health['location'].replace('kano state','kano')\n",
    "health['location'] = health['location'].replace('kaduna state','kaduna')\n",
    "health['location'] = health['location'].replace('imo state','imo')\n",
    "health['location'] = health['location'].replace('enugu state','enugu')\n",
    "health['location'] = health['location'].replace('anambra state','anambra')\n",
    "\n",
    "#Rows, where their sentiment is neutral, were dropped. Only positive and negative polarity were considered.\n",
    "health = health[health['Analysis'] != 'Neutral']"
   ]
  },
  {
   "cell_type": "code",
   "execution_count": null,
   "id": "cb7cd05b",
   "metadata": {},
   "outputs": [],
   "source": []
  }
 ],
 "metadata": {
  "kernelspec": {
   "display_name": "Python 3 (ipykernel)",
   "language": "python",
   "name": "python3"
  },
  "language_info": {
   "codemirror_mode": {
    "name": "ipython",
    "version": 3
   },
   "file_extension": ".py",
   "mimetype": "text/x-python",
   "name": "python",
   "nbconvert_exporter": "python",
   "pygments_lexer": "ipython3",
   "version": "3.10.1"
  }
 },
 "nbformat": 4,
 "nbformat_minor": 5
}
