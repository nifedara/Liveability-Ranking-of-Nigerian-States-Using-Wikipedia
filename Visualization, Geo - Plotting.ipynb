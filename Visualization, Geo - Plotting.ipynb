{
 "cells": [
  {
   "cell_type": "code",
   "execution_count": null,
   "id": "afb7c70b",
   "metadata": {},
   "outputs": [],
   "source": [
    "import geopandas as gpd\n",
    "import matplotlib.pyplot as plt\n",
    "import pandas as pd"
   ]
  },
  {
   "cell_type": "code",
   "execution_count": null,
   "id": "2100790f",
   "metadata": {},
   "outputs": [],
   "source": [
    "#the country shape file\n",
    "country = gpd.read_file(r\"Desktop\\afr_g2014_2013_0.zip\")\n",
    "\n",
    "#the state shape file\n",
    "states = gpd.read_file(r'C:\\Users\\olami\\Desktop\\adm1_STATES\\NGA_adm1.shp')"
   ]
  },
  {
   "cell_type": "code",
   "execution_count": null,
   "id": "35731152",
   "metadata": {},
   "outputs": [],
   "source": [
    "#grouping the dat together and counting the number of occurence of positive and negative sentiments for the locations\n",
    "\n",
    "health = pd.read_csv(r'Desktop\\health.csv', index_col = 0)\n",
    "health = health.groupby(['location','Analysis'])['Analysis'].count()\n",
    "\n",
    "health = pd.DataFrame(health)\n",
    "\n",
    "#unstacks the groupby result\n",
    "health = health.unstack(level='Analysis')\n",
    "\n",
    "health = health.fillna(0)\n",
    "health.columns = ['_'.join(col) for col in health11.columns.values]"
   ]
  },
  {
   "cell_type": "code",
   "execution_count": null,
   "id": "a920d0f6",
   "metadata": {},
   "outputs": [],
   "source": [
    "#calculating liveability score\n",
    "\n",
    "health['Total'] = health['Positive'] + health['Negative']\n",
    "health['Liveability_Score'] = (health['Positive']/health['Total']) * 5\n",
    "health.to_csv('Desktop\\health_liveability_score.csv')"
   ]
  },
  {
   "cell_type": "markdown",
   "id": "7cae387b",
   "metadata": {},
   "source": [
    "plotting"
   ]
  },
  {
   "cell_type": "code",
   "execution_count": null,
   "id": "3c9f7bd8",
   "metadata": {},
   "outputs": [],
   "source": [
    "health_liveability_score[\"location\"] = health_liveability_score[\"location\"].str.title()\n",
    "health_liveability_score[\"location\"] = health_liveability_score[\"location\"].str.strip()\n",
    "states[\"NAME_1\"] = states[\"NAME_1\"].str.title()\n",
    "states[\"NAME_1\"] = states[\"NAME_1\"].str.strip()"
   ]
  },
  {
   "cell_type": "code",
   "execution_count": null,
   "id": "8d6fbfc5",
   "metadata": {},
   "outputs": [],
   "source": [
    "#merge data with the shape file\n",
    "\n",
    "health_w_states = states.merge(health_liveability_score, left_on=\"NAME_1\", right_on=\"location\", how=\"inner\")\n",
    "\n",
    "#gets the xy cordinates for labeling\n",
    "health_w_states['centroid'] = health_w_states.centroid"
   ]
  },
  {
   "cell_type": "code",
   "execution_count": null,
   "id": "3d01e15c",
   "metadata": {},
   "outputs": [],
   "source": [
    "fig, gax = plt.subplots(figsize = (12,8))\n",
    "\n",
    "# Plot the state\n",
    "country[country[\"ADM0_NAME\"] == 'Nigeria'].plot(ax = gax, edgecolor='black',color='white')\n",
    "\n",
    "# Plot the states and pass 'Liveability_Score' as the data to color\n",
    "health_w_states.plot(ax=gax, edgecolor='black', column='Liveability_Score', legend=True, cmap='RdBu', vmin=1, vmax=5)\n",
    "\n",
    "# text \n",
    "gax.annotate('LIVEABILITY SCORE', xy=(0.65, 0.3), xycoords='figure fraction', rotation=90)\n",
    "\n",
    "for x, y, label in zip(health_w_states['centroid'].x, health_w_states['centroid'].y, health_w_states['NAME_1']):\n",
    "    gax.annotate(label, xy=(x,y), xytext=(2,2), textcoords='offset points', color='Darkblue', fontsize = 7.5, \n",
    "                bbox=dict(boxstyle=\"round4,pad=.5\", fc=\"0.9\"))\n",
    "\n",
    "gax.set_title(\"HEALTH LIVEABILITY SCORE MAP\") \n",
    "    \n",
    "# turns off the axis with long and lat\n",
    "plt.axis('off')\n",
    "\n",
    "plt.show()"
   ]
  },
  {
   "cell_type": "code",
   "execution_count": null,
   "id": "6cb97f68",
   "metadata": {},
   "outputs": [],
   "source": [
    "# to avoid repitition, I have intentionally omitted severel things\n",
    "\n",
    "#getting the total liveability score\n",
    "liveabilty['liveability_total'] = (liveabilty['Liveability_Score_edu'] + liveabilty['Liveability_Score_health']\n",
    "                                   + liveabilty['Liveability_Score_env'] + liveabilty['Liveability_Score_infr'])/nLi\n",
    "\n",
    "#(nLi - number of indicators for which location has data for. Because some locations don't have indicator data)\n",
    "\n",
    "liveabilty = liveabilty.sort_values('liveability_total') #arranges it from least to highest"
   ]
  },
  {
   "cell_type": "code",
   "execution_count": null,
   "id": "3a6a0169",
   "metadata": {},
   "outputs": [],
   "source": [
    "plt.barh(liveabilty['location'], liveabilty['liveability_total'], color = 'lightseagreen')\n",
    "#plt.show()\n",
    "\n",
    "#plt.savefig(r'Pictures\\liveabilty_rank_bar.png')"
   ]
  }
 ],
 "metadata": {
  "kernelspec": {
   "display_name": "Python 3 (ipykernel)",
   "language": "python",
   "name": "python3"
  },
  "language_info": {
   "codemirror_mode": {
    "name": "ipython",
    "version": 3
   },
   "file_extension": ".py",
   "mimetype": "text/x-python",
   "name": "python",
   "nbconvert_exporter": "python",
   "pygments_lexer": "ipython3",
   "version": "3.10.1"
  }
 },
 "nbformat": 4,
 "nbformat_minor": 5
}
